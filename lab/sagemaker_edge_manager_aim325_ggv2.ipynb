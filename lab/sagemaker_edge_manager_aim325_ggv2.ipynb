{
 "cells": [
  {
   "cell_type": "markdown",
   "metadata": {},
   "source": [
    "# 04 Run Fleet (Alternative Solution)"
   ]
  },
  {
   "cell_type": "markdown",
   "metadata": {},
   "source": [
    "## Introduction\n",
    "\n",
    "SageMaker Edge Manager is a service from Amazon SageMaker that lets you:\n",
    "\n",
    "+ prepare custom models for edge device hardware\n",
    "+ include a runtime for running machine learning inference efficiently on edge devices\n",
    "+ enable the device to send samples of data from each model securely to SageMaker for relabeling and retraining.\n",
    "\n",
    "There are two main components to this service:\n",
    "+ SageMaker Edge Manager in the Cloud \n",
    "+ SageMaker Edge Agent on the Edge device\n",
    "\n",
    "This notebook demonstrates the end-to-end workflow for getting a running SageMaker Edge on the edge device. This will involve the following steps:\n",
    "\n",
    "+ Compile the model using SageMaker Neo\n",
    "+ Package the compiled model with SageMaker Edge Manager\n",
    "+ Deploy with SageMaker Edge Manager Agent\n",
    "+ Run inference with the model\n",
    "+ Capture model's input and output data to S3\n",
    "\n",
    "**Note**:\n",
    "Typically, the SageMaker Edge Agent is run on an Edge device. For the sake of this notebook, we will run the Agent on an EC2 instance. We show how to package the compiled model and then load it to the Agent on the Edge Device to make predictions with. Finally, we show how to capture model's input and output to S3 via the Agent.\n",
    "\n",
    " When you run this notebook, choose the kernel: `conda_tensorflow_p36` if you are using a notebook instance or `Python 3 (Data Science)` if you are using SageMaker Studio."
   ]
  },
  {
   "cell_type": "markdown",
   "metadata": {},
   "source": [
    "**Please note**: There are pricing implications to the use of this notebook. Please refer to [Edge Manager](https://aws.amazon.com/sagemaker/edge-manager/pricing) for more information."
   ]
  },
  {
   "cell_type": "markdown",
   "metadata": {},
   "source": [
    "## Demo Setup"
   ]
  },
  {
   "cell_type": "markdown",
   "metadata": {},
   "source": [
    "We need an AWS account role with SageMaker access. This role is used to give SageMaker access to S3, launch an EC2 instance and create components and deployments in Greengrass."
   ]
  },
  {
   "cell_type": "code",
   "execution_count": null,
   "metadata": {},
   "outputs": [],
   "source": [
    "import sagemaker\n",
    "from sagemaker import get_execution_role\n",
    "import boto3\n",
    "import botocore\n",
    "import json\n",
    "import time\n",
    "\n",
    "role = get_execution_role()\n",
    "sess = sagemaker.Session()\n",
    "region = boto3.Session().region_name"
   ]
  },
  {
   "cell_type": "code",
   "execution_count": null,
   "metadata": {},
   "outputs": [],
   "source": [
    "print(role)"
   ]
  },
  {
   "cell_type": "markdown",
   "metadata": {},
   "source": [
    "Locate the above printed sagemaker role from [IAM console](https://console.aws.amazon.com/iam), find and attach the following policies to role:\n",
    "\n",
    "- IAMFullAccess\n",
    "\n",
    "You can find more information about how to attach policies to role [here](https://docs.aws.amazon.com/IAM/latest/UserGuide/access_policies_manage-attach-detach.html#add-policies-console).\n",
    "\n",
    "Also add the following trust relationship\n",
    "```\n",
    "    {\n",
    "      \"Effect\": \"Allow\",\n",
    "      \"Principal\": {\n",
    "        \"Service\": \"iam.amazonaws.com\"\n",
    "      },\n",
    "      \"Action\": \"sts:AssumeRole\"\n",
    "    }\n",
    "```"
   ]
  },
  {
   "cell_type": "code",
   "execution_count": null,
   "metadata": {},
   "outputs": [],
   "source": [
    "iam_client = boto3.client('iam')\n",
    "role_name = role.split('/')[-1]"
   ]
  },
  {
   "cell_type": "code",
   "execution_count": null,
   "metadata": {},
   "outputs": [],
   "source": [
    "# use python sdk to attach a few more managed policy to sagemaker role\n",
    "policy_attach_res = iam_client.attach_role_policy(\n",
    "    RoleName=role_name,\n",
    "    PolicyArn=\"arn:aws:iam::aws:policy/AmazonEC2FullAccess\"\n",
    ")\n",
    "\n",
    "policy_attach_res = iam_client.attach_role_policy(\n",
    "    RoleName=role_name,\n",
    "    PolicyArn=\"arn:aws:iam::aws:policy/service-role/AmazonEC2RoleforSSM\"\n",
    ")\n",
    "\n",
    "policy_attach_res = iam_client.attach_role_policy(\n",
    "    RoleName=role_name,\n",
    "    PolicyArn=\"arn:aws:iam::aws:policy/AmazonSSMManagedInstanceCore\"\n",
    ")\n",
    "\n",
    "policy_attach_res = iam_client.attach_role_policy(\n",
    "    RoleName=role_name,\n",
    "    PolicyArn=\"arn:aws:iam::aws:policy/AmazonSSMFullAccess\"\n",
    ")\n",
    "\n",
    "policy_attach_res = iam_client.attach_role_policy(\n",
    "    RoleName=role_name,\n",
    "    PolicyArn=\"arn:aws:iam::aws:policy/AWSGreengrassFullAccess\"\n",
    ")\n",
    "\n",
    "policy_attach_res = iam_client.attach_role_policy(\n",
    "    RoleName=role_name,\n",
    "    PolicyArn=\"arn:aws:iam::aws:policy/AWSIoTFullAccess\"\n",
    ")"
   ]
  },
  {
   "cell_type": "markdown",
   "metadata": {},
   "source": [
    "We then need an S3 bucket that would be used for storing the model artifacts generated after compilation and packaged artifacts generated after edge packaging job."
   ]
  },
  {
   "cell_type": "code",
   "execution_count": null,
   "metadata": {},
   "outputs": [],
   "source": [
    "# S3 bucket and folders for saving model artifacts.\n",
    "# Feel free to specify different bucket/folders here if you wish.\n",
    "bucket = sess.default_bucket()\n",
    "folder = \"DEMO-Sagemaker-Edge\"\n",
    "compilation_output_sub_folder = folder + \"/compilation-output\"\n",
    "iot_folder = folder + \"/iot\"\n",
    "\n",
    "# S3 Location to save the model artifact after compilation\n",
    "s3_compilation_output_location = \"s3://{}/{}\".format(bucket, compilation_output_sub_folder)"
   ]
  },
  {
   "cell_type": "markdown",
   "metadata": {},
   "source": [
    "Finally, we upload the test image to S3 bucket. This image will be used in inference later."
   ]
  },
  {
   "cell_type": "markdown",
   "metadata": {},
   "source": [
    "### Launch EC2 Instance"
   ]
  },
  {
   "cell_type": "markdown",
   "metadata": {},
   "source": [
    "As mentioned earlier, this EC2 instance is used in place of an Edge device for running the agent software."
   ]
  },
  {
   "cell_type": "code",
   "execution_count": null,
   "metadata": {},
   "outputs": [],
   "source": [
    "ec2_client = boto3.client(\"ec2\", region_name=region)"
   ]
  },
  {
   "cell_type": "markdown",
   "metadata": {},
   "source": [
    "Generate key pair for EC2 instance, save the key PEM file. We can use this key with SSH to connect to the instance. But in this notebook example, we will not use SSH, instead, we will use AWS Systems Manager to send commands to the instance."
   ]
  },
  {
   "cell_type": "code",
   "execution_count": null,
   "metadata": {},
   "outputs": [],
   "source": [
    "key_pairs = ec2_client.describe_key_pairs()\n",
    "key_names = list(map(lambda x: x[\"KeyName\"], key_pairs[\"KeyPairs\"]))\n",
    "\n",
    "key_name = \"ec2-key-pair\"\n",
    "\n",
    "if key_name in key_names:\n",
    "    ec2_key_pair = ec2_client.delete_key_pair(\n",
    "        KeyName=key_name,\n",
    "    )"
   ]
  },
  {
   "cell_type": "code",
   "execution_count": null,
   "metadata": {},
   "outputs": [],
   "source": [
    "ec2_key_pair = ec2_client.create_key_pair(\n",
    "    KeyName=key_name,\n",
    ")\n",
    "\n",
    "key_pair = str(ec2_key_pair[\"KeyMaterial\"])\n",
    "key_pair_file = open(\"ec2-key-pair.pem\", \"w\")\n",
    "key_pair_file.write(key_pair)\n",
    "key_pair_file.close()"
   ]
  },
  {
   "cell_type": "code",
   "execution_count": null,
   "metadata": {},
   "outputs": [],
   "source": [
    "ec2_role_name = \"SMEdgeManageExampleRole\"\n",
    "\n",
    "trust_relationship_ec2_service = {\n",
    "  \"Version\": \"2012-10-17\",\n",
    "  \"Statement\": [\n",
    "    {\n",
    "      \"Effect\": \"Allow\",\n",
    "      \"Principal\": {\n",
    "        \"Service\": \"ec2.amazonaws.com\"\n",
    "      },\n",
    "      \"Action\": \"sts:AssumeRole\"\n",
    "    }\n",
    "  ]\n",
    "}"
   ]
  },
  {
   "cell_type": "code",
   "execution_count": null,
   "metadata": {},
   "outputs": [],
   "source": [
    "# create EC2 role and its instance profile\n",
    "from botocore.exceptions import ClientError\n",
    "\n",
    "try:\n",
    "    create_role_res = iam_client.create_role(\n",
    "        RoleName=ec2_role_name,\n",
    "        AssumeRolePolicyDocument=json.dumps(trust_relationship_ec2_service),\n",
    "        Description='This is a EC2 role',\n",
    "    )\n",
    "except ClientError as error:\n",
    "    if error.response['Error']['Code'] == 'EntityAlreadyExists':\n",
    "        print('Role already exists... hence exiting from here')\n",
    "    else:\n",
    "        print('Unexpected error occurred... Role could not be created', error)"
   ]
  },
  {
   "cell_type": "code",
   "execution_count": null,
   "metadata": {},
   "outputs": [],
   "source": [
    "policy_attach_res = iam_client.attach_role_policy(\n",
    "    RoleName=ec2_role_name,\n",
    "    PolicyArn=\"arn:aws:iam::aws:policy/AmazonS3FullAccess\"\n",
    ")\n",
    "\n",
    "policy_attach_res = iam_client.attach_role_policy(\n",
    "    RoleName=ec2_role_name,\n",
    "    PolicyArn=\"arn:aws:iam::aws:policy/AmazonSSMManagedInstanceCore\"\n",
    ")\n",
    "\n",
    "policy_attach_res = iam_client.attach_role_policy(\n",
    "    RoleName=ec2_role_name,\n",
    "    PolicyArn=\"arn:aws:iam::aws:policy/CloudWatchAgentAdminPolicy\"\n",
    ")"
   ]
  },
  {
   "cell_type": "code",
   "execution_count": null,
   "metadata": {},
   "outputs": [],
   "source": [
    "# specify your role name used by GGv2\n",
    "iot_device_role_name = 'SageMakerTESRole'"
   ]
  },
  {
   "cell_type": "markdown",
   "metadata": {},
   "source": [
    "Create a role for the EC2 instance we are going to use. Read for detailed information about [IAM roles for Amazon EC2](https://docs.aws.amazon.com/AWSEC2/latest/UserGuide/iam-roles-for-amazon-ec2.html)."
   ]
  },
  {
   "cell_type": "code",
   "execution_count": null,
   "metadata": {},
   "outputs": [],
   "source": [
    "account_id = role.split(\":\")[4]\n",
    "\n",
    "# Create a policy\n",
    "my_managed_policy = {\n",
    "    \"Version\": \"2012-10-17\",\n",
    "    \"Statement\": [\n",
    "        {\n",
    "            \"Sid\": \"CreateTokenExchangeRole\",\n",
    "            \"Effect\": \"Allow\",\n",
    "            \"Action\": [\n",
    "                \"iam:AttachRolePolicy\",\n",
    "                \"iam:CreatePolicy\",\n",
    "                \"iam:CreateRole\",\n",
    "                \"iam:GetPolicy\",\n",
    "                \"iam:GetRole\",\n",
    "                \"iam:PassRole\"\n",
    "            ],\n",
    "            \"Resource\": [\n",
    "                f\"arn:aws:iam::{account_id}:role/{iot_device_role_name}\",\n",
    "                f\"arn:aws:iam::{account_id}:policy/{iot_device_role_name}Access\",\n",
    "                f\"arn:aws:iam::aws:policy/{iot_device_role_name}Access\"\n",
    "            ]\n",
    "        },\n",
    "        {\n",
    "            \"Effect\": \"Allow\",\n",
    "            \"Action\": [\n",
    "                \"iot:AddThingToThingGroup\",\n",
    "                \"iot:AttachPolicy\",\n",
    "                \"iot:AttachThingPrincipal\",\n",
    "                \"iot:CreateKeysAndCertificate\",\n",
    "                \"iot:CreatePolicy\",\n",
    "                \"iot:CreateRoleAlias\",\n",
    "                \"iot:CreateThing\",\n",
    "                \"iot:CreateThingGroup\",\n",
    "                \"iot:DescribeEndpoint\",\n",
    "                \"iot:DescribeRoleAlias\",\n",
    "                \"iot:DescribeThingGroup\",\n",
    "                \"iot:GetPolicy\",\n",
    "                \"sts:GetCallerIdentity\"\n",
    "            ],\n",
    "            \"Resource\": \"*\"\n",
    "        },\n",
    "        {\n",
    "            \"Sid\": \"DeployDevTools\",\n",
    "            \"Effect\": \"Allow\",\n",
    "            \"Action\": [\n",
    "                \"greengrass:CreateDeployment\",\n",
    "                \"iot:CancelJob\",\n",
    "                \"iot:CreateJob\",\n",
    "                \"iot:DeleteThingShadow\",\n",
    "                \"iot:DescribeJob\",\n",
    "                \"iot:DescribeThing\",\n",
    "                \"iot:DescribeThingGroup\",\n",
    "                \"iot:GetThingShadow\",\n",
    "                \"iot:UpdateJob\",\n",
    "                \"iot:UpdateThingShadow\"\n",
    "            ],\n",
    "            \"Resource\": \"*\"\n",
    "        }\n",
    "    ]\n",
    "}\n",
    "\n",
    "response = iam_client.create_policy(\n",
    "  PolicyName='my_ggv2_provision_policy',\n",
    "  PolicyDocument=json.dumps(my_managed_policy)\n",
    ")"
   ]
  },
  {
   "cell_type": "code",
   "execution_count": null,
   "metadata": {},
   "outputs": [],
   "source": [
    "policy_attach_res = iam_client.attach_role_policy(\n",
    "    RoleName=ec2_role_name,\n",
    "    PolicyArn=response['Policy']['Arn']\n",
    ")"
   ]
  },
  {
   "cell_type": "code",
   "execution_count": null,
   "metadata": {},
   "outputs": [],
   "source": [
    "pass_ec2_role_policy = {\n",
    "    \"Version\": \"2012-10-17\",\n",
    "    \"Statement\": [\n",
    "        {\n",
    "            \"Effect\": \"Allow\",\n",
    "            \"Action\": \"iam:PassRole\",\n",
    "            \"Resource\": f\"arn:aws:iam::{account_id}:role/{ec2_role_name}\"\n",
    "        }\n",
    "    ]\n",
    "}\n",
    "\n",
    "response = iam_client.create_policy(\n",
    "  PolicyName='my_pass_ec2_role_policy',\n",
    "  PolicyDocument=json.dumps(pass_ec2_role_policy)\n",
    ")"
   ]
  },
  {
   "cell_type": "code",
   "execution_count": null,
   "metadata": {},
   "outputs": [],
   "source": [
    "import boto3\n",
    "\n",
    "client = boto3.client('iam')\n",
    "\n",
    "response = client.create_instance_profile(\n",
    "    InstanceProfileName=ec2_role_name\n",
    ")"
   ]
  },
  {
   "cell_type": "markdown",
   "metadata": {},
   "source": [
    "Launch an EC2 C5 instance. In this example we will use aws deep learning AMI."
   ]
  },
  {
   "cell_type": "code",
   "execution_count": null,
   "metadata": {},
   "outputs": [],
   "source": [
    "ami = ec2_client.describe_images(Filters=[{'Name': 'name', 'Values': ['Deep Learning AMI (Ubuntu 18.04) Version 36.0']}])['Images'][0]['ImageId']\n",
    "ami"
   ]
  },
  {
   "cell_type": "code",
   "execution_count": null,
   "metadata": {},
   "outputs": [],
   "source": [
    "iam_resource = boto3.resource('iam')\n",
    "instance_profile = iam_resource.InstanceProfile(\n",
    "    ec2_role_name\n",
    ")\n",
    "\n",
    "instance_profile.add_role(\n",
    "    RoleName=ec2_role_name\n",
    ")\n",
    "\n",
    "print('IAM role has been added to the Instance Profile')"
   ]
  },
  {
   "cell_type": "code",
   "execution_count": null,
   "metadata": {},
   "outputs": [],
   "source": [
    "ec2_profile_name = ec2_role_name  # the name of the role created for EC2\n",
    "\n",
    "ec2_instance = ec2_client.run_instances(\n",
    "    ImageId=ami,\n",
    "    MinCount=1,\n",
    "    MaxCount=1,\n",
    "    InstanceType=\"c5.large\",\n",
    "    KeyName=key_name,\n",
    "    IamInstanceProfile={\"Name\": ec2_profile_name},\n",
    ")"
   ]
  },
  {
   "cell_type": "code",
   "execution_count": null,
   "metadata": {},
   "outputs": [],
   "source": [
    "instance_id = ec2_instance[\"Instances\"][0][\"InstanceId\"]  # will used for running inference later\n",
    "print(instance_id)"
   ]
  },
  {
   "cell_type": "markdown",
   "metadata": {},
   "source": [
    "## Compile Model using SageMaker Neo\n"
   ]
  },
  {
   "cell_type": "code",
   "execution_count": null,
   "metadata": {},
   "outputs": [],
   "source": [
    "sm_client = boto3.client(\"sagemaker\", region_name=region)"
   ]
  },
  {
   "cell_type": "code",
   "execution_count": null,
   "metadata": {},
   "outputs": [],
   "source": [
    "model_file = open(\"model/model.tar.gz\", \"rb\")\n",
    "boto3.Session().resource(\"s3\").Bucket(bucket).Object('model/model.tar.gz').upload_fileobj(model_file)\n",
    "print(\"Model successfully uploaded!\")"
   ]
  },
  {
   "cell_type": "code",
   "execution_count": null,
   "metadata": {},
   "outputs": [],
   "source": [
    "compilation_job_name = 'wind-turbine-anomaly-%d' % int(time.time()*1000)\n",
    "sm_client.create_compilation_job(\n",
    "    CompilationJobName=compilation_job_name,\n",
    "    RoleArn=role,\n",
    "    InputConfig={\n",
    "        'S3Uri': 's3://%s/model/model.tar.gz' % bucket,\n",
    "        'DataInputConfig': '{\"input0\":[1,6,10,10]}',\n",
    "        'Framework': 'PYTORCH'\n",
    "    },\n",
    "    OutputConfig={\n",
    "        'S3OutputLocation': 's3://%s/wind_turbine/optimized/' % bucket,        \n",
    "        'TargetPlatform': { 'Os': 'LINUX', 'Arch': 'X86_64' }\n",
    "    },\n",
    "    StoppingCondition={ 'MaxRuntimeInSeconds': 900 }\n",
    ")\n",
    "while True:\n",
    "    resp = sm_client.describe_compilation_job(CompilationJobName=compilation_job_name)    \n",
    "    if resp['CompilationJobStatus'] in ['STARTING', 'INPROGRESS']:\n",
    "        print('Running...')\n",
    "    else:\n",
    "        print(resp['CompilationJobStatus'], compilation_job_name)\n",
    "        break\n",
    "    time.sleep(5)"
   ]
  },
  {
   "cell_type": "markdown",
   "metadata": {},
   "source": [
    "### Package Keras Model"
   ]
  },
  {
   "cell_type": "code",
   "execution_count": null,
   "metadata": {},
   "outputs": [],
   "source": [
    "import time\n",
    "model_version = '1.0'\n",
    "model_name = 'WindTurbineAnomalyDetection'\n",
    "model_component_version = \"1.0.0\"\n",
    "model_component_name = \"com.model.WindTurbineAnomalyDetection\"\n",
    "\n",
    "edge_packaging_job_name='wind-turbine-anomaly-%d' % int(time.time()*1000)\n",
    "resp = sm_client.create_edge_packaging_job(\n",
    "    EdgePackagingJobName=edge_packaging_job_name,\n",
    "    CompilationJobName=compilation_job_name,\n",
    "    ModelName=model_name,\n",
    "    ModelVersion=model_version,\n",
    "    RoleArn=role,\n",
    "    OutputConfig={\n",
    "        \"PresetDeploymentType\": \"GreengrassV2Component\",\n",
    "        \"PresetDeploymentConfig\": json.dumps(\n",
    "            {\"ComponentName\": model_component_name, \"ComponentVersion\": model_component_version}\n",
    "        ),\n",
    "        'S3OutputLocation': s3_compilation_output_location\n",
    "    }\n",
    ")\n",
    "\n",
    "# Poll every 30 sec\n",
    "while True:\n",
    "    job_status = sm_client.describe_edge_packaging_job(\n",
    "        EdgePackagingJobName=edge_packaging_job_name\n",
    "    )\n",
    "    if job_status[\"EdgePackagingJobStatus\"] == \"COMPLETED\":\n",
    "        break\n",
    "    elif job_status[\"EdgePackagingJobStatus\"] == \"FAILED\":\n",
    "        raise RuntimeError(\"Edge Packaging failed\")\n",
    "    print(\"Packaging ...\")\n",
    "    time.sleep(30)"
   ]
  },
  {
   "cell_type": "markdown",
   "metadata": {},
   "source": [
    "\n",
    "### Install Greengrass\n",
    "\n",
    "SageMaker Edge Manager can use AWS IoT Greengrass to deploy the agent, the model and the inference application to the edge device.\n",
    "\n",
    "AWS IoT Greengrass provides all the necessary features to manage applications on remote devices in a secure and scalable way. To learn more about Greengrass, head to the [What is AWS IoT Greengrass?](https://docs.aws.amazon.com/greengrass/v2/developerguide/what-is-iot-greengrass.html). \n",
    "\n",
    "The SageMaker Edge Manager agent leverages the AWS credentials provided by the [Token exchange service](https://docs.aws.amazon.com/greengrass/v2/developerguide/token-exchange-service-component.html) component to securely communicate with the SageMaker Edge Manager backend.\n"
   ]
  },
  {
   "cell_type": "code",
   "execution_count": null,
   "metadata": {},
   "outputs": [],
   "source": [
    "ssm_client = boto3.client(\"ssm\", region_name=region)"
   ]
  },
  {
   "cell_type": "markdown",
   "metadata": {},
   "source": [
    "**Note**: If you are using a real device, connect to the device via SSH, ensure that you have both Java v8 or above and the Unzip command and then run the following commands (replace `<your_region>` with the correct value). To run this command on the device you also need to provide IAM credentials with at least the permissions listed in [Minimal IAM policy for installer to provision resources](https://docs.aws.amazon.com/greengrass/v2/developerguide/provision-minimal-iam-policy.html).\n",
    "\n",
    "```bash\n",
    "curl -s https://d2s8p88vqu9w66.cloudfront.net/releases/greengrass-nucleus-latest.zip > greengrass-nucleus-latest.zip \\\n",
    "               && unzip greengrass-nucleus-latest.zip -d GreengrassCore,\n",
    "sudo -E java -Droot=\"/greengrass/v2\" -Dlog.store=FILE -jar ./GreengrassCore/lib/Greengrass.jar \\\n",
    "    --thing-name GreengrassSMEdgeManagerDevice -trn SageMakerTESRole -tra SageMakerTESRoleAlias \\ \n",
    "    --thing-group-name GreengrassSMEdgeManagerGroup \\ \n",
    "    --component-default-user ggc_user:ggc_group --provision true --setup-system-service true --deploy-dev-tools true \\\n",
    "    --aws-region <your_region>\n",
    "```\n",
    "\n",
    "Otherwise, run the following command to install Greengrass on the EC2 instance. You can find further information about the command to run and their effect in [Install AWS IoT Greengrass Core software with automatic resource provisioning](https://docs.aws.amazon.com/greengrass/v2/developerguide/quick-installation.html)."
   ]
  },
  {
   "cell_type": "code",
   "execution_count": null,
   "metadata": {},
   "outputs": [],
   "source": [
    "device_name = \"demo-device\" + str(time.time()).split(\".\")[0]"
   ]
  },
  {
   "cell_type": "code",
   "execution_count": null,
   "metadata": {},
   "outputs": [],
   "source": [
    "response = ssm_client.send_command(\n",
    "    InstanceIds=[instance_id],\n",
    "    DocumentName=\"AWS-RunShellScript\",\n",
    "    OutputS3BucketName=bucket,\n",
    "    OutputS3KeyPrefix=folder,\n",
    "    Parameters={\n",
    "        \"commands\": [\n",
    "            \"#!/bin/bash\",\n",
    "            \"sudo apt update && apt install python3-venv -y\",\n",
    "            \"curl -s https://d2s8p88vqu9w66.cloudfront.net/releases/greengrass-nucleus-latest.zip > greengrass-nucleus-latest.zip && unzip greengrass-nucleus-latest.zip -d GreengrassCore\",\n",
    "            f'sudo -E java -Droot=\"/greengrass/v2\" -Dlog.store=FILE -jar ./GreengrassCore/lib/Greengrass.jar --aws-region {region} --thing-name {device_name} -trn {iot_device_role_name} -tra SageMakerTESRoleAlias --thing-group-name GreengrassSMEdgeManagerGroup --component-default-user ggc_user:ggc_group --provision true --setup-system-service true --deploy-dev-tools true',\n",
    "        ]\n",
    "    },\n",
    ")"
   ]
  },
  {
   "cell_type": "code",
   "execution_count": null,
   "metadata": {},
   "outputs": [],
   "source": [
    "ssm_client.get_command_invocation(\n",
    "    CommandId=response[\"Command\"][\"CommandId\"],\n",
    "    InstanceId=instance_id,\n",
    ")"
   ]
  },
  {
   "cell_type": "markdown",
   "metadata": {},
   "source": [
    "### Create Device Fleet"
   ]
  },
  {
   "cell_type": "markdown",
   "metadata": {},
   "source": [
    "#### Modify the IAM role for device fleet"
   ]
  },
  {
   "cell_type": "code",
   "execution_count": null,
   "metadata": {},
   "outputs": [],
   "source": [
    "# Create a policy\n",
    "download_component_policy = {\n",
    "    \"Version\": \"2012-10-17\",\n",
    "    \"Statement\": [\n",
    "        {\n",
    "            \"Effect\": \"Allow\",\n",
    "            \"Action\": [\n",
    "                \"s3:GetObject\"\n",
    "            ],\n",
    "            \"Resource\": [\n",
    "                \"arn:aws:s3:::*SageMaker*\",\n",
    "                \"arn:aws:s3:::*Sagemaker*\",\n",
    "                \"arn:aws:s3:::*sagemaker*\"\n",
    "            ]\n",
    "        }\n",
    "    ]\n",
    "}\n",
    "\n",
    "response = iam_client.create_policy(\n",
    "  PolicyName='download_component_policy',\n",
    "  PolicyDocument=json.dumps(download_component_policy)\n",
    ")"
   ]
  },
  {
   "cell_type": "code",
   "execution_count": null,
   "metadata": {},
   "outputs": [],
   "source": [
    "role_arn = f\"arn:aws:iam::{account_id}:role/{iot_device_role_name}\""
   ]
  },
  {
   "cell_type": "code",
   "execution_count": null,
   "metadata": {},
   "outputs": [],
   "source": [
    "policy_attach_res = iam_client.attach_role_policy(\n",
    "    RoleName=iot_device_role_name,\n",
    "    PolicyArn=response['Policy']['Arn']\n",
    ")\n",
    "\n",
    "policy_attach_res = iam_client.attach_role_policy(\n",
    "    RoleName=iot_device_role_name,\n",
    "    PolicyArn=\"arn:aws:iam::aws:policy/service-role/AmazonSageMakerEdgeDeviceFleetPolicy\"\n",
    ")"
   ]
  },
  {
   "cell_type": "code",
   "execution_count": null,
   "metadata": {},
   "outputs": [],
   "source": [
    "response = iam_client.update_assume_role_policy(\n",
    "    PolicyDocument='''{\n",
    "        \"Version\": \"2012-10-17\",\n",
    "        \"Statement\": [\n",
    "           {\n",
    "             \"Effect\": \"Allow\",\n",
    "             \"Principal\": {\"Service\": \"credentials.iot.amazonaws.com\"},\n",
    "             \"Action\": \"sts:AssumeRole\"\n",
    "           },\n",
    "           {\n",
    "             \"Effect\": \"Allow\",\n",
    "             \"Principal\": {\"Service\": \"sagemaker.amazonaws.com\"},\n",
    "             \"Action\": \"sts:AssumeRole\"\n",
    "           }\n",
    "        ]\n",
    "    }''',\n",
    "    RoleName=iot_device_role_name,\n",
    ")"
   ]
  },
  {
   "cell_type": "code",
   "execution_count": null,
   "metadata": {},
   "outputs": [],
   "source": [
    "device_fleet_name = \"demo-device-fleet\" + str(time.time()).split(\".\")[0]\n",
    "\n",
    "sm_client.create_device_fleet(\n",
    "    DeviceFleetName=device_fleet_name,\n",
    "    RoleArn=role_arn,\n",
    "    OutputConfig={\"S3OutputLocation\": s3_compilation_output_location},\n",
    ")\n",
    "\n",
    "print(device_fleet_name)"
   ]
  },
  {
   "cell_type": "markdown",
   "metadata": {},
   "source": [
    "#### Register device to the fleet"
   ]
  },
  {
   "cell_type": "code",
   "execution_count": null,
   "metadata": {},
   "outputs": [],
   "source": [
    "sm_client.register_devices(\n",
    "    DeviceFleetName=device_fleet_name,\n",
    "    Devices=[\n",
    "        {\n",
    "            \"DeviceName\": device_name,\n",
    "            \"IotThingName\": device_name,\n",
    "            \"Description\": \"this is a sample virtual device\",\n",
    "        }\n",
    "    ],\n",
    ")"
   ]
  },
  {
   "cell_type": "markdown",
   "metadata": {},
   "source": [
    "## Inference on Edge"
   ]
  },
  {
   "cell_type": "markdown",
   "metadata": {},
   "source": [
    "In this example, we will use [AWS IoT Greengrass](https://docs.aws.amazon.com/) to remotely deploy the agent, the model and the inference application.\n",
    "\n",
    "The [SageMaker Edge Manager component](https://docs.aws.amazon.com/greengrass/v2/developerguide/sagemaker-edge-manager-component.html) is already provided and will be used to deploy and run the agent on the device.\n",
    "\n",
    "The model component has been created for you by the packaging jobs you execute previously and in [your account](https://console.aws.amazon.com/iot/home?#/greengrass/v2/components) you should now have 1 component called `com.model.keras`. \n",
    "\n",
    "In order to be able to use the model, we also need an application component to load the model and invoke it. In the next section we are going to see how to create such component."
   ]
  },
  {
   "cell_type": "markdown",
   "metadata": {},
   "source": [
    "## Create the inference application component"
   ]
  },
  {
   "cell_type": "markdown",
   "metadata": {},
   "source": [
    "We will use a Python application to load the model and perform the inference. The application is provided in the [inference.py](./inference.py) file. In addition to this file, you will also need to generate the Protobuf libraries that can be used with the gRPC API of the agent.\n",
    "\n",
    "First list the available releases from the S3 bucket. It does not matter which OS we are going to use since we only need the protobuf definitions."
   ]
  },
  {
   "cell_type": "markdown",
   "metadata": {},
   "source": [
    "### Create the AWS IoT Greengrass component\n",
    "\n",
    "Next, upload the python script, dataset and the protobuf libraries to an S3 bucket so that they can be referenced by the component recipe and from where they will be downloaded by Greengrass on the device. We use the SageMaker bucket for this."
   ]
  },
  {
   "cell_type": "code",
   "execution_count": null,
   "metadata": {},
   "outputs": [],
   "source": [
    "!mkdir -p data\n",
    "!curl https://aws-ml-blog.s3.amazonaws.com/artifacts/monitor-manage-anomaly-detection-model-wind-turbine-fleet-sagemaker-neo/dataset_wind_turbine.csv.gz -o data/dataset_wind.csv.gz"
   ]
  },
  {
   "cell_type": "code",
   "execution_count": null,
   "metadata": {},
   "outputs": [],
   "source": [
    "folder = \"com.sagemaker.windturbine/1.0.0\"\n",
    "sess.upload_data(\"app_ggv2/entry_point.py\", bucket, folder)\n",
    "sess.upload_data(\"app_ggv2/agent_pb2.py\", bucket, folder)\n",
    "sess.upload_data(\"app_ggv2/agent_pb2_grpc.py\", bucket, folder)\n",
    "sess.upload_data(\"app_ggv2/edgeagentclient.py\", bucket, folder)\n",
    "sess.upload_data(\"app_ggv2/turbine.py\", bucket, folder)\n",
    "sess.upload_data(\"app_ggv2/windfarm.py\", bucket, folder)\n",
    "sess.upload_data(\"data/dataset_wind.csv.gz\", bucket, folder)\n",
    "sess.upload_data(\"statistics/raw_std.npy\", bucket, folder)\n",
    "sess.upload_data(\"statistics/mean.npy\", bucket, folder)\n",
    "sess.upload_data(\"statistics/std.npy\", bucket, folder)\n",
    "sess.upload_data(\"statistics/thresholds.npy\", bucket, folder)"
   ]
  },
  {
   "cell_type": "markdown",
   "metadata": {},
   "source": [
    "As a final step, create the component. You can use the [AWS Greengrass Console](https://console.aws.amazon.com/iot/home?#/greengrass/v2/components/create) to create a new component. Go to **Component>Create component**, select `Enter recipe as YAML` and copy and paste the following YAML. "
   ]
  },
  {
   "cell_type": "code",
   "execution_count": null,
   "metadata": {},
   "outputs": [],
   "source": [
    "recipe = f'''\n",
    "---\n",
    "RecipeFormatVersion: 2020-01-25\n",
    "ComponentName: com.sagemaker.windturbine\n",
    "ComponentVersion: 1.0.0\n",
    "ComponentDescription: Sagemaker Edge Manager Python example\n",
    "ComponentPublisher: Amazon Web Services, Inc.\n",
    "ComponentDependencies:\n",
    "  aws.greengrass.SageMakerEdgeManager:\n",
    "    VersionRequirement: '>=1.0.0'\n",
    "    DependencyType: HARD\n",
    "  com.model.WindTurbineAnomalyDetection:\n",
    "    VersionRequirement: '~1.0.0'\n",
    "    DependencyType: HARD\n",
    "Manifests:\n",
    "  - Platform:\n",
    "      os: linux\n",
    "      architecture: \"/amd64|x86/\"\n",
    "    Lifecycle:\n",
    "      Install: |-\n",
    "        python3 -m venv venv\n",
    "        . venv/bin/activate\n",
    "        pip install pip --upgrade\n",
    "        pip install wheel      \n",
    "        pip3 install grpcio==1.38.1\n",
    "        pip3 install grpcio-tools==1.38.1\n",
    "        pip3 install protobuf\n",
    "        pip3 install Pillow\n",
    "        pip3 install numpy\n",
    "        pip3 install pandas\n",
    "        pip3 install PyWavelets\n",
    "      Run:\n",
    "        Script: |- \n",
    "          export MODEL_PATH=\"{{com.model.WindTurbineAnomalyDetection:work:path}}\"\n",
    "          export ARTIFACTS_PATH=\"{{artifacts:path}}\"\n",
    "          . venv/bin/activate  \n",
    "          python3 -u {{artifacts:path}}/entry_point.py \n",
    "    Artifacts:\n",
    "      - URI: s3://{bucket}/com.sagemaker.windturbine/1.0.0/entry_point.py\n",
    "      - URI: s3://{bucket}/com.sagemaker.windturbine/1.0.0/agent_pb2.py\n",
    "      - URI: s3://{bucket}/com.sagemaker.windturbine/1.0.0/agent_pb2_grpc.py\n",
    "      - URI: s3://{bucket}/com.sagemaker.windturbine/1.0.0/edgeagentclient.py\n",
    "      - URI: s3://{bucket}/com.sagemaker.windturbine/1.0.0/turbine.py\n",
    "      - URI: s3://{bucket}/com.sagemaker.windturbine/1.0.0/windfarm.py\n",
    "      - URI: s3://{bucket}/com.sagemaker.windturbine/1.0.0/dataset_wind.csv.gz\n",
    "      - URI: s3://{bucket}/com.sagemaker.windturbine/1.0.0/raw_std.npy\n",
    "      - URI: s3://{bucket}/com.sagemaker.windturbine/1.0.0/mean.npy\n",
    "      - URI: s3://{bucket}/com.sagemaker.windturbine/1.0.0/std.npy\n",
    "      - URI: s3://{bucket}/com.sagemaker.windturbine/1.0.0/thresholds.npy\n",
    "'''\n",
    "\n",
    "print(recipe)"
   ]
  },
  {
   "cell_type": "markdown",
   "metadata": {},
   "source": [
    "# Deploy the application\n",
    "\n",
    "Once the application component has been created, it can be deployed to the device. \n",
    "\n",
    "1. In the [AWS Console](https://console.aws.amazon.com/iot/home#/greengrass/v2/components/private) select the `com.sagemaker.edgePythonExample` component, and choose **Deploy**.\n",
    "2. Select the deployment named `Deployment for GreengrassSMEdgeManagerGroup` and choose `Next`\n",
    "3. Toggle the selector on the `Public components` pane, search for `SageMakerEdgeManager`, and selct it\n",
    "4. Choose **Next**\n",
    "5. Select the `aws.greengrass.SageMakerEdgeManager` component and choose **Configure component**\n",
    "6. Replace the **Configuration to merge** content with the following json. Don't forget to change the placeholder to the actual values.\n",
    "```json\n",
    "{\n",
    "\t\"DeviceFleetName\": <device-fleet-name>,\n",
    "\t\"BucketName\": <bucket-name>\n",
    "}\n",
    "```\n",
    "7. Choose **Confirm**\n",
    "3. Choose **Next** until you reach the last screen. \n",
    "4. Choose **Deploy**.\n",
    "\n",
    "You can check the status of the deployment by clicking on the device name `GreengrassSMEdgeManagerDevice` in the Target core devices pane and then selecting Deployments tab.\n",
    "\n",
    "After few seconds the components will have been deployed to the EC2 instance and you should be able to see the results of the inference in the Greengrass logs by executing:\n",
    "```bash\n",
    "sudo cat /greengrass/v2/logs/com.sagemaker.edgePythonExample.log\n",
    "```\n",
    "\n",
    "If you are using another device, it might take longer depending on the network speed.\n",
    "\n",
    "As you noticed there is no need to install the agent separately or download the model: these tasks are performed by Greengrass based on the fact that the application recipe defined the dependencies on SageMagerEdge manager component and the model component created by the packaging job.\n",
    "\n"
   ]
  },
  {
   "cell_type": "code",
   "execution_count": null,
   "metadata": {},
   "outputs": [],
   "source": [
    "cat_log_out = ssm_client.send_command(\n",
    "    InstanceIds=[instance_id],\n",
    "    DocumentName=\"AWS-RunShellScript\",\n",
    "    OutputS3BucketName=bucket,\n",
    "    OutputS3KeyPrefix=folder,\n",
    "    Parameters={\n",
    "        \"commands\": [\n",
    "            \"sudo tail -30 /greengrass/v2/logs/com.sagemaker.windturbine.log\",\n",
    "        ]\n",
    "    },\n",
    ")"
   ]
  },
  {
   "cell_type": "code",
   "execution_count": null,
   "metadata": {},
   "outputs": [],
   "source": [
    "output = ssm_client.get_command_invocation(\n",
    "    CommandId=cat_log_out[\"Command\"][\"CommandId\"],\n",
    "    InstanceId=instance_id,\n",
    ")[\"StandardOutputContent\"]\n",
    "print(output)"
   ]
  },
  {
   "cell_type": "markdown",
   "metadata": {},
   "source": [
    "## Clean Up"
   ]
  },
  {
   "cell_type": "markdown",
   "metadata": {},
   "source": [
    "Undeploy the application"
   ]
  },
  {
   "cell_type": "code",
   "execution_count": null,
   "metadata": {},
   "outputs": [],
   "source": [
    "ssm_client.cancel_command(CommandId=agent_out[\"Command\"][\"CommandId\"], InstanceIds=[instance_id])"
   ]
  },
  {
   "cell_type": "markdown",
   "metadata": {},
   "source": [
    "Stop the EC2 instance"
   ]
  },
  {
   "cell_type": "code",
   "execution_count": null,
   "metadata": {},
   "outputs": [],
   "source": [
    "ec2_client.stop_instances(InstanceIds=[instance_id])"
   ]
  },
  {
   "cell_type": "markdown",
   "metadata": {},
   "source": [
    "Detach and delete policy"
   ]
  },
  {
   "cell_type": "code",
   "execution_count": null,
   "metadata": {},
   "outputs": [],
   "source": [
    "iot_client.detach_policy(policyName=policy_name, target=iot_cert[\"certificateArn\"])\n",
    "\n",
    "iot_client.delete_policy(policyName=policy_name)"
   ]
  },
  {
   "cell_type": "markdown",
   "metadata": {},
   "source": [
    "Deregister device and delete device fleet"
   ]
  },
  {
   "cell_type": "code",
   "execution_count": null,
   "metadata": {},
   "outputs": [],
   "source": [
    "sagemaker_client.deregister_devices(DeviceFleetName=device_fleet_name, DeviceNames=[device_name])\n",
    "\n",
    "sagemaker_client.delete_device_fleet(DeviceFleetName=device_fleet_name)"
   ]
  }
 ],
 "metadata": {
  "instance_type": "ml.t3.medium",
  "interpreter": {
   "hash": "aee8b7b246df8f9039afb4144a1f6fd8d2ca17a180786b69acc140d282b71a49"
  },
  "kernelspec": {
   "display_name": "Python 3 (Data Science)",
   "language": "python",
   "name": "python3__SAGEMAKER_INTERNAL__arn:aws:sagemaker:us-west-2:236514542706:image/datascience-1.0"
  },
  "language_info": {
   "codemirror_mode": {
    "name": "ipython",
    "version": 3
   },
   "file_extension": ".py",
   "mimetype": "text/x-python",
   "name": "python",
   "nbconvert_exporter": "python",
   "pygments_lexer": "ipython3",
   "version": "3.7.10"
  }
 },
 "nbformat": 4,
 "nbformat_minor": 4
}
